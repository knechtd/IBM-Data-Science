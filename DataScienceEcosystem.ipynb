{
 "cells": [
  {
   "cell_type": "markdown",
   "id": "79bd909c-fea5-4ea9-95d2-c3f08bb587f4",
   "metadata": {},
   "source": [
    "# Data Science Tools and Ecosystem"
   ]
  },
  {
   "cell_type": "markdown",
   "id": "b5af7b03-76f4-4e8c-a399-fb8baf878a4b",
   "metadata": {},
   "source": [
    "In this notebook, Data Science Tools and Ecosystem are summarized."
   ]
  },
  {
   "cell_type": "markdown",
   "id": "8bc21f9f-4803-48ce-b1e4-5d818ddc3db5",
   "metadata": {},
   "source": [
    "**Objectives:**\n",
    "- List popular languages for Data Science\n",
    "- List popular coding environments for Data Science\n",
    "- Use of Jupyter Notebook\n",
    "- Use of R\n",
    "- Installation and use of Anaconda"
   ]
  },
  {
   "cell_type": "markdown",
   "id": "f36cf198-05c3-4b8d-99d8-fa5cdad3ab7b",
   "metadata": {},
   "source": [
    "Some of the popular languages that Data Scientists use are:\n",
    "1. Python\n",
    "2. R\n",
    "3. Julia"
   ]
  },
  {
   "cell_type": "markdown",
   "id": "591aaeca-b8f7-4890-9c72-784b5778747a",
   "metadata": {},
   "source": [
    "Some of the commonly used libraries used by Data Scientists include:\n",
    "1. MatPlotLib \n",
    "2. Seaborn\n",
    "3. Scikit-learn\n",
    "4. NumPy\n",
    "5. SciPy\n",
    "6. TensorFlow\n",
    "7. Pandas"
   ]
  },
  {
   "cell_type": "markdown",
   "id": "4f2e8bfa-c7d1-49b3-ba93-0f4cda127953",
   "metadata": {},
   "source": [
    "|Data Science Tools| \n",
    "|-----|\n",
    "|JupyterNotebook |\n",
    "|R Studio|\n",
    "|Anaconda|\n",
    "|Hadoop|"
   ]
  },
  {
   "cell_type": "markdown",
   "id": "3398b72b-ac18-407b-8ede-dcac34f64b1e",
   "metadata": {},
   "source": [
    "### Below are a few examples of evaluating arithmetic expressions in Python.\n",
    "\n",
    "x = 40\n",
    "\n",
    "y = 12\n",
    "  \n",
    "add = x + y \n",
    "\n",
    "sub = x - y \n",
    "\n",
    "pro = x * y \n",
    "\n",
    "div = x / y "
   ]
  },
  {
   "cell_type": "code",
   "execution_count": 3,
   "id": "84f2356a-acdd-47ef-9d89-180a771440c1",
   "metadata": {},
   "outputs": [
    {
     "name": "stdout",
     "output_type": "stream",
     "text": [
      "Output:  17\n"
     ]
    }
   ],
   "source": [
    "# This a simple arithmetic expression to mutiply then add integers\n",
    "\n",
    "x = (3*4)+5\n",
    "print ('Output: ', x)"
   ]
  },
  {
   "cell_type": "code",
   "execution_count": 4,
   "id": "0d3cf662-ac55-4236-8c63-1fda9afd8f19",
   "metadata": {},
   "outputs": [
    {
     "name": "stdout",
     "output_type": "stream",
     "text": [
      "200  minutes convert to  3.3333333333333335  hours.\n"
     ]
    }
   ],
   "source": [
    "# This will convert 200 minutes to hours by diving by 60\n",
    "\n",
    "min = 200\n",
    "hrs = min/60\n",
    "\n",
    "print(min, ' minutes convert to ', hrs, ' hours.')\n"
   ]
  },
  {
   "cell_type": "markdown",
   "id": "7ac8922a-0e1f-4810-9643-e8a98f2a8069",
   "metadata": {},
   "source": [
    "## Author\n",
    "D. Knecht"
   ]
  },
  {
   "cell_type": "code",
   "execution_count": null,
   "id": "0f4dd042-3099-43a1-929b-7564b8551ac5",
   "metadata": {},
   "outputs": [],
   "source": []
  }
 ],
 "metadata": {
  "kernelspec": {
   "display_name": "Python 3 (ipykernel)",
   "language": "python",
   "name": "python3"
  },
  "language_info": {
   "codemirror_mode": {
    "name": "ipython",
    "version": 3
   },
   "file_extension": ".py",
   "mimetype": "text/x-python",
   "name": "python",
   "nbconvert_exporter": "python",
   "pygments_lexer": "ipython3",
   "version": "3.11.7"
  }
 },
 "nbformat": 4,
 "nbformat_minor": 5
}
